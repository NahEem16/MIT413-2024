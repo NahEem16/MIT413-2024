{
 "cells": [
  {
   "cell_type": "code",
   "execution_count": 1,
   "id": "04ed5f3b",
   "metadata": {},
   "outputs": [
    {
     "name": "stdout",
     "output_type": "stream",
     "text": [
      "libraries installed successfully\n"
     ]
    }
   ],
   "source": [
    "import cv2\n",
    "import matplotlib.pyplot as plt\n",
    "import numpy as np\n",
    "\n",
    "print(\"libraries installed successfully\")"
   ]
  },
  {
   "cell_type": "code",
   "execution_count": null,
   "id": "9dbec607",
   "metadata": {},
   "outputs": [],
   "source": []
  },
  {
   "cell_type": "markdown",
   "id": "c04cc92c",
   "metadata": {},
   "source": [
    "# Reading an Image"
   ]
  },
  {
   "cell_type": "code",
   "execution_count": 4,
   "id": "b5ce6ea3",
   "metadata": {},
   "outputs": [],
   "source": [
    "naeem = cv2.imread(\"image.jpg\")"
   ]
  },
  {
   "cell_type": "code",
   "execution_count": 5,
   "id": "cee1625a",
   "metadata": {},
   "outputs": [],
   "source": [
    "cv2.imshow(\"people Image\", naeem)\n",
    "cv2.waitKey(0)\n",
    "cv2.destroyAllWindows()"
   ]
  },
  {
   "cell_type": "markdown",
   "id": "0ffc4566",
   "metadata": {},
   "source": [
    "# Blurring an image"
   ]
  },
  {
   "cell_type": "code",
   "execution_count": 9,
   "id": "20817bda",
   "metadata": {},
   "outputs": [],
   "source": [
    "#apply Gaussian blurr\n",
    "blurred = cv2.GaussianBlur(img,(15, 15), 4)\n",
    "\n",
    "cv2.imshow(\"blurred image\", blurred)\n",
    "cv2.waitKey(0)\n",
    "cv2.destroyAllWindows()"
   ]
  },
  {
   "cell_type": "markdown",
   "id": "3652912c",
   "metadata": {},
   "source": [
    "# Cropping an image"
   ]
  },
  {
   "cell_type": "code",
   "execution_count": 10,
   "id": "460b37bc",
   "metadata": {},
   "outputs": [],
   "source": [
    "#load the image\n",
    "naeem1 = cv2.imread(\"people1.jpg\")"
   ]
  },
  {
   "cell_type": "code",
   "execution_count": 15,
   "id": "1f7fd2ca",
   "metadata": {},
   "outputs": [],
   "source": [
    "cv2.imshow(\"whites\", naeem1)\n",
    "cv2.waitKey(0)\n",
    "cv2.destroyAllWindows()"
   ]
  },
  {
   "cell_type": "code",
   "execution_count": 13,
   "id": "496ae91a",
   "metadata": {},
   "outputs": [
    {
     "data": {
      "text/plain": [
       "720000"
      ]
     },
     "execution_count": 13,
     "metadata": {},
     "output_type": "execute_result"
    }
   ],
   "source": [
    "naeem1.size"
   ]
  },
  {
   "cell_type": "code",
   "execution_count": 14,
   "id": "6e436292",
   "metadata": {},
   "outputs": [
    {
     "data": {
      "text/plain": [
       "3"
      ]
     },
     "execution_count": 14,
     "metadata": {},
     "output_type": "execute_result"
    }
   ],
   "source": [
    "naeem1.ndim"
   ]
  },
  {
   "cell_type": "code",
   "execution_count": 24,
   "id": "1a125334",
   "metadata": {},
   "outputs": [
    {
     "data": {
      "text/plain": [
       "(400, 600, 3)"
      ]
     },
     "execution_count": 24,
     "metadata": {},
     "output_type": "execute_result"
    }
   ],
   "source": [
    "img1.shape"
   ]
  },
  {
   "cell_type": "code",
   "execution_count": 26,
   "id": "7c1e53d0",
   "metadata": {},
   "outputs": [
    {
     "data": {
      "text/plain": [
       "array([[[111, 123, 123],\n",
       "        [110, 122, 122],\n",
       "        [107, 119, 121],\n",
       "        ...,\n",
       "        [ 11,  23,  35],\n",
       "        [ 15,  27,  39],\n",
       "        [ 15,  27,  39]],\n",
       "\n",
       "       [[117, 129, 129],\n",
       "        [116, 128, 128],\n",
       "        [112, 124, 126],\n",
       "        ...,\n",
       "        [  9,  21,  33],\n",
       "        [ 14,  26,  38],\n",
       "        [ 14,  26,  38]],\n",
       "\n",
       "       [[126, 136, 136],\n",
       "        [126, 136, 136],\n",
       "        [123, 132, 135],\n",
       "        ...,\n",
       "        [ 11,  23,  35],\n",
       "        [ 17,  29,  41],\n",
       "        [ 17,  29,  41]],\n",
       "\n",
       "       ...,\n",
       "\n",
       "       [[ 95,  41,  24],\n",
       "        [ 91,  39,  22],\n",
       "        [ 86,  36,  18],\n",
       "        ...,\n",
       "        [100, 112, 112],\n",
       "        [ 92, 104, 104],\n",
       "        [ 92, 104, 104]],\n",
       "\n",
       "       [[ 84,  33,  13],\n",
       "        [ 79,  29,   9],\n",
       "        [ 72,  24,   6],\n",
       "        ...,\n",
       "        [105, 117, 117],\n",
       "        [ 97, 109, 109],\n",
       "        [ 97, 109, 109]],\n",
       "\n",
       "       [[ 83,  33,  13],\n",
       "        [ 77,  30,   9],\n",
       "        [ 70,  24,   6],\n",
       "        ...,\n",
       "        [105, 117, 117],\n",
       "        [ 97, 109, 109],\n",
       "        [ 97, 109, 109]]], dtype=uint8)"
      ]
     },
     "execution_count": 26,
     "metadata": {},
     "output_type": "execute_result"
    }
   ],
   "source": [
    "img1_array = np.asarray (img)\n",
    "\n",
    "img1_array"
   ]
  },
  {
   "cell_type": "code",
   "execution_count": 27,
   "id": "260f4540",
   "metadata": {},
   "outputs": [
    {
     "data": {
      "text/plain": [
       "0"
      ]
     },
     "execution_count": 27,
     "metadata": {},
     "output_type": "execute_result"
    }
   ],
   "source": [
    "img1.min()"
   ]
  },
  {
   "cell_type": "code",
   "execution_count": 28,
   "id": "63b508c6",
   "metadata": {},
   "outputs": [
    {
     "data": {
      "text/plain": [
       "255"
      ]
     },
     "execution_count": 28,
     "metadata": {},
     "output_type": "execute_result"
    }
   ],
   "source": [
    "img1.max()"
   ]
  },
  {
   "cell_type": "code",
   "execution_count": 29,
   "id": "e5f04e5a",
   "metadata": {},
   "outputs": [
    {
     "data": {
      "text/plain": [
       "(400, 600, 3)"
      ]
     },
     "execution_count": 29,
     "metadata": {},
     "output_type": "execute_result"
    }
   ],
   "source": [
    "img1.shape"
   ]
  },
  {
   "cell_type": "code",
   "execution_count": 35,
   "id": "5c5fad06",
   "metadata": {},
   "outputs": [],
   "source": [
    "#crop image\n",
    "cropped = img1[100:600, 100:300]\n",
    "\n",
    "cv2.imshow(\"cropped image\", cropped)\n",
    "cv2.waitKey(0)\n",
    "cv2.destroyAllWindows()"
   ]
  },
  {
   "cell_type": "markdown",
   "id": "ae65c29e",
   "metadata": {},
   "source": [
    "# Thresholding an image"
   ]
  },
  {
   "cell_type": "code",
   "execution_count": 38,
   "id": "cc499703",
   "metadata": {},
   "outputs": [
    {
     "ename": "AttributeError",
     "evalue": "module 'cv2' has no attribute 'adaptiveThresshold'",
     "output_type": "error",
     "traceback": [
      "\u001b[1;31m---------------------------------------------------------------------------\u001b[0m",
      "\u001b[1;31mAttributeError\u001b[0m                            Traceback (most recent call last)",
      "Cell \u001b[1;32mIn[38], line 2\u001b[0m\n\u001b[0;32m      1\u001b[0m \u001b[38;5;66;03m#apply the adaptive thresholding\u001b[39;00m\n\u001b[1;32m----> 2\u001b[0m thresh1 \u001b[38;5;241m=\u001b[39m cv2\u001b[38;5;241m.\u001b[39madaptiveThresshold(img_gray, \u001b[38;5;241m255\u001b[39m, cv2\u001b[38;5;241m.\u001b[39mADAPTIVE_THRESH_GAUSSIAN_C, cv2\u001b[38;5;241m.\u001b[39mTHRESH_BINARY, \u001b[38;5;241m11\u001b[39m, \u001b[38;5;241m2\u001b[39m)\n",
      "\u001b[1;31mAttributeError\u001b[0m: module 'cv2' has no attribute 'adaptiveThresshold'"
     ]
    }
   ],
   "source": [
    "#apply the adaptive thresholding\n",
    "thresh1 = cv2.adaptiveThresshold(img_gray, 255, cv2.ADAPTIVE_THRESH_GAUSSIAN_C, cv2.THRESH_BINARY, 11, 2)"
   ]
  },
  {
   "cell_type": "markdown",
   "id": "90de249e",
   "metadata": {},
   "source": [
    "# Working with DICOM"
   ]
  },
  {
   "cell_type": "code",
   "execution_count": 39,
   "id": "b1b4b128",
   "metadata": {},
   "outputs": [
    {
     "name": "stdout",
     "output_type": "stream",
     "text": [
      "imported successfully\n"
     ]
    }
   ],
   "source": [
    "import pydicom\n",
    "\n",
    "print('imported successfully')"
   ]
  },
  {
   "cell_type": "code",
   "execution_count": 40,
   "id": "138e20be",
   "metadata": {},
   "outputs": [],
   "source": [
    "#read the dicom image\n",
    "ds = pydicom.dcmread('1-01.dcm')"
   ]
  },
  {
   "cell_type": "code",
   "execution_count": 41,
   "id": "49e27590",
   "metadata": {},
   "outputs": [
    {
     "data": {
      "text/plain": [
       "Dataset.file_meta -------------------------------\n",
       "(0002, 0000) File Meta Information Group Length  UL: 196\n",
       "(0002, 0001) File Meta Information Version       OB: b'\\x00\\x01'\n",
       "(0002, 0002) Media Storage SOP Class UID         UI: CT Image Storage\n",
       "(0002, 0003) Media Storage SOP Instance UID      UI: 1.3.6.1.4.1.14519.5.2.1.7009.2401.227733523232226220904432144781\n",
       "(0002, 0010) Transfer Syntax UID                 UI: Explicit VR Little Endian\n",
       "(0002, 0012) Implementation Class UID            UI: 1.2.40.0.13.1.1.1\n",
       "(0002, 0013) Implementation Version Name         SH: 'dcm4che-1.4.35'\n",
       "-------------------------------------------------\n",
       "(0008, 0005) Specific Character Set              CS: 'ISO_IR 100'\n",
       "(0008, 0008) Image Type                          CS: ['ORIGINAL', 'PRIMARY', 'AXIAL']\n",
       "(0008, 0012) Instance Creation Date              DA: '19600101'\n",
       "(0008, 0013) Instance Creation Time              TM: '172041'\n",
       "(0008, 0016) SOP Class UID                       UI: CT Image Storage\n",
       "(0008, 0018) SOP Instance UID                    UI: 1.3.6.1.4.1.14519.5.2.1.7009.2401.227733523232226220904432144781\n",
       "(0008, 0020) Study Date                          DA: '19600101'\n",
       "(0008, 0021) Series Date                         DA: '19600101'\n",
       "(0008, 0022) Acquisition Date                    DA: '19600101'\n",
       "(0008, 0023) Content Date                        DA: '19600101'\n",
       "(0008, 0030) Study Time                          TM: '170835'\n",
       "(0008, 0031) Series Time                         TM: '172010'\n",
       "(0008, 0032) Acquisition Time                    TM: '172024'\n",
       "(0008, 0033) Content Time                        TM: '172041'\n",
       "(0008, 0050) Accession Number                    SH: ''\n",
       "(0008, 0060) Modality                            CS: 'CT'\n",
       "(0008, 0070) Manufacturer                        LO: 'GE MEDICAL SYSTEMS'\n",
       "(0008, 0080) Institution Name                    LO: ''\n",
       "(0008, 0090) Referring Physician's Name          PN: 'REMOVED'\n",
       "(0008, 1010) Station Name                        SH: ''\n",
       "(0008, 1030) Study Description                   LO: 'PET-CT STUDY'\n",
       "(0008, 103e) Series Description                  LO: 'PET-CT SERIES'\n",
       "(0008, 1070) Operators' Name                     PN: 'REMOVED'\n",
       "(0008, 1090) Manufacturer's Model Name           LO: 'Discovery LS'\n",
       "(0008, 1140)  Referenced Image Sequence  1 item(s) ---- \n",
       "   (0008, 1150) Referenced SOP Class UID            UI: CT Image Storage\n",
       "   (0008, 1155) Referenced SOP Instance UID         UI: 1.3.6.1.4.1.14519.5.2.1.7009.2401.309669954298488088357033289195\n",
       "   ---------\n",
       "(0009, 0010) Private Creator                     LO: 'GEMS_IDEN_01'\n",
       "(0009, 1001) [Full fidelity]                     LO: 'CT_LIGHTSPEED'\n",
       "(0009, 1002) [Suite id]                          SH: 'CT01'\n",
       "(0009, 1004) [Product id]                        SH: 'Discovery LS'\n",
       "(0009, 10e3) [Equipment UID]                     UI: ''\n",
       "(0010, 0010) Patient's Name                      PN: 'ACRIN-FLT-Breast_001'\n",
       "(0010, 0020) Patient ID                          LO: 'ACRIN-FLT-Breast_001'\n",
       "(0010, 0030) Patient's Birth Date                DA: ''\n",
       "(0010, 0040) Patient's Sex                       CS: 'F'\n",
       "(0010, 1010) Patient's Age                       AS: '046Y'\n",
       "(0010, 1030) Patient's Weight                    DS: '86.0'\n",
       "(0012, 0050) Clinical Trial Time Point ID        LO: '0'\n",
       "(0012, 0051) Clinical Trial Time Point Descripti ST: 'Days offset from diagnosis'\n",
       "(0012, 0062) Patient Identity Removed            CS: 'YES'\n",
       "(0012, 0063) De-identification Method            LO: 'Per DICOM PS 3.15 AnnexE. Details in 0012,0064'\n",
       "(0012, 0064)  De-identification Method Code Sequence  8 item(s) ---- \n",
       "   (0008, 0100) Code Value                          SH: '113100'\n",
       "   (0008, 0102) Coding Scheme Designator            SH: 'DCM'\n",
       "   (0008, 0104) Code Meaning                        LO: 'Basic Application Confidentiality Profile'\n",
       "   ---------\n",
       "   (0008, 0100) Code Value                          SH: '113101'\n",
       "   (0008, 0102) Coding Scheme Designator            SH: 'DCM'\n",
       "   (0008, 0104) Code Meaning                        LO: 'Clean Pixel Data Option'\n",
       "   ---------\n",
       "   (0008, 0100) Code Value                          SH: '113104'\n",
       "   (0008, 0102) Coding Scheme Designator            SH: 'DCM'\n",
       "   (0008, 0104) Code Meaning                        LO: 'Clean Structured Content Option'\n",
       "   ---------\n",
       "   (0008, 0100) Code Value                          SH: '113105'\n",
       "   (0008, 0102) Coding Scheme Designator            SH: 'DCM'\n",
       "   (0008, 0104) Code Meaning                        LO: 'Clean Descriptors Option'\n",
       "   ---------\n",
       "   (0008, 0100) Code Value                          SH: '113107'\n",
       "   (0008, 0102) Coding Scheme Designator            SH: 'DCM'\n",
       "   (0008, 0104) Code Meaning                        LO: 'Retain Longitudinal Temporal Information Modified Dates Option'\n",
       "   ---------\n",
       "   (0008, 0100) Code Value                          SH: '113108'\n",
       "   (0008, 0102) Coding Scheme Designator            SH: 'DCM'\n",
       "   (0008, 0104) Code Meaning                        LO: 'Retain Patient Characteristics Option'\n",
       "   ---------\n",
       "   (0008, 0100) Code Value                          SH: '113109'\n",
       "   (0008, 0102) Coding Scheme Designator            SH: 'DCM'\n",
       "   (0008, 0104) Code Meaning                        LO: 'Retain Device Identity Option'\n",
       "   ---------\n",
       "   (0008, 0100) Code Value                          SH: '113111'\n",
       "   (0008, 0102) Coding Scheme Designator            SH: 'DCM'\n",
       "   (0008, 0104) Code Meaning                        LO: 'Retain Safe Private Option'\n",
       "   ---------\n",
       "(0013, 0010) Private Creator                     LO: 'CTP'\n",
       "(0013, 1010) Private tag data                    LO: 'ACRIN-FLT-Breast'\n",
       "(0013, 1013) Private tag data                    LO: '70092401'\n",
       "(0018, 0015) Body Part Examined                  CS: 'BREAST'\n",
       "(0018, 0022) Scan Options                        CS: 'HELICAL MODE'\n",
       "(0018, 0050) Slice Thickness                     DS: '5.0'\n",
       "(0018, 0060) KVP                                 DS: '140.0'\n",
       "(0018, 0090) Data Collection Diameter            DS: '500.0'\n",
       "(0018, 1020) Software Versions                   LO: ''\n",
       "(0018, 1030) Protocol Name                       LO: ''\n",
       "(0018, 1100) Reconstruction Diameter             DS: '500.0'\n",
       "(0018, 1110) Distance Source to Detector         DS: '949.075012'\n",
       "(0018, 1111) Distance Source to Patient          DS: '541.0'\n",
       "(0018, 1120) Gantry/Detector Tilt                DS: '0.0'\n",
       "(0018, 1130) Table Height                        DS: '105.300003'\n",
       "(0018, 1140) Rotation Direction                  CS: 'CW'\n",
       "(0018, 1150) Exposure Time                       IS: '1186'\n",
       "(0018, 1151) X-Ray Tube Current                  IS: '150'\n",
       "(0018, 1152) Exposure                            IS: '1440'\n",
       "(0018, 1160) Filter Type                         SH: 'BODY FILTER'\n",
       "(0018, 1170) Generator Power                     IS: '21000'\n",
       "(0018, 1190) Focal Spot(s)                       DS: '0.7'\n",
       "(0018, 1210) Convolution Kernel                  SH: 'SOFT'\n",
       "(0018, 5100) Patient Position                    CS: 'HFS'\n",
       "(0019, 0010) Private Creator                     LO: 'GEMS_ACQU_01'\n",
       "(0019, 1002) [Detector Channel]                  SL: 912\n",
       "(0019, 1003) [Cell number at Theta]              DS: '389.75'\n",
       "(0019, 1004) [Cell spacing]                      DS: '1.0239'\n",
       "(0019, 100f) [Horiz. Frame of ref.]              DS: '630.219971'\n",
       "(0019, 1011) [Series contrast]                   SS: 0\n",
       "(0019, 1018) [First scan ras]                    LO: 'I'\n",
       "(0019, 101a) [Last scan ras]                     LO: 'I'\n",
       "(0019, 1023) [Table Speed [mm/rotation]]         DS: '13.75'\n",
       "(0019, 1024) [Mid Scan Time [sec]]               DS: '0.593496'\n",
       "(0019, 1025) [Mid scan flag]                     SS: 1\n",
       "(0019, 1026) [Tube Azimuth [degree]]             SL: 355\n",
       "(0019, 1027) [Rotation Speed [msec]]             DS: '0.8'\n",
       "(0019, 102c) [Number of triggers]                SL: 11815\n",
       "(0019, 102e) [Angle of first view]               DS: '0.0'\n",
       "(0019, 102f) [Trigger frequency]                 DS: '1230.0'\n",
       "(0019, 1039) [SFOV Type]                         SS: 16\n",
       "(0019, 1042) [Segment Number]                    SS: 0\n",
       "(0019, 1043) [Total Segments Required]           SS: 0\n",
       "(0019, 1047) [View compression factor]           SS: 1\n",
       "(0019, 1052) [Recon post proc. Flag]             SS: 1\n",
       "(0019, 106a) [Dependent on #views processed]     SS: 3\n",
       "(0020, 000d) Study Instance UID                  UI: 1.3.6.1.4.1.14519.5.2.1.7009.2401.204286950505277246830527869206\n",
       "(0020, 000e) Series Instance UID                 UI: 1.3.6.1.4.1.14519.5.2.1.7009.2401.720471748748674198140396975824\n",
       "(0020, 0010) Study ID                            SH: '345678'\n",
       "(0020, 0011) Series Number                       IS: '2'\n",
       "(0020, 0012) Acquisition Number                  IS: '1'\n",
       "(0020, 0013) Instance Number                     IS: '1'\n",
       "(0020, 0032) Image Position (Patient)            DS: [-250.000000, -250.000000, -68.500000]\n",
       "(0020, 0037) Image Orientation (Patient)         DS: [1.000000, 0.000000, 0.000000, 0.000000, 1.000000, 0.000000]\n",
       "(0020, 0052) Frame of Reference UID              UI: 1.3.6.1.4.1.14519.5.2.1.7009.2401.246071434129280599921901451240\n",
       "(0020, 1040) Position Reference Indicator        LO: 'OM'\n",
       "(0020, 1041) Slice Location                      DS: '-68.5'\n",
       "(0021, 0010) Private Creator                     LO: 'GEMS_RELA_01'\n",
       "(0021, 1036) [Image from which prescribed]       SS: 1\n",
       "(0021, 1091) [Biopsy position]                   SS: 0\n",
       "(0021, 1092) [Biopsy T location]                 FL: 0.0\n",
       "(0021, 1093) [Biopsy ref location]               FL: 0.0\n",
       "(0023, 0010) Private Creator                     LO: 'GEMS_STDY_01'\n",
       "(0027, 0010) Private Creator                     LO: 'GEMS_IMAG_01'\n",
       "(0027, 1010) [Scout Type]                        SS: 0\n",
       "(0027, 101c) [Vma mamp]                          SL: 0\n",
       "(0027, 101e) [Vma mod]                           SL: 0\n",
       "(0027, 101f) [Vma clip]                          SL: 100\n",
       "(0027, 1020) [Smart scan ON/OFF flag]            SS: 1\n",
       "(0027, 1035) [Plane Type]                        SS: 2\n",
       "(0027, 1042) [Center R coord of plane image]     FL: 0.0\n",
       "(0027, 1043) [Center A coord of plane image]     FL: 0.0\n",
       "(0027, 1044) [Center S coord of plane image]     FL: -68.5\n",
       "(0027, 1045) [Normal R coord]                    FL: 0.0\n",
       "(0027, 1046) [Normal A coord]                    FL: -0.0\n",
       "(0027, 1047) [Normal S coord]                    FL: 1.0\n",
       "(0027, 1050) [Scan Start Location]               FL: 0.0\n",
       "(0027, 1051) [Scan End Location]                 FL: 0.0\n",
       "(0028, 0002) Samples per Pixel                   US: 1\n",
       "(0028, 0004) Photometric Interpretation          CS: 'MONOCHROME2'\n",
       "(0028, 0010) Rows                                US: 512\n",
       "(0028, 0011) Columns                             US: 512\n",
       "(0028, 0030) Pixel Spacing                       DS: [0.976562, 0.976562]\n",
       "(0028, 0100) Bits Allocated                      US: 16\n",
       "(0028, 0101) Bits Stored                         US: 16\n",
       "(0028, 0102) High Bit                            US: 15\n",
       "(0028, 0103) Pixel Representation                US: 1\n",
       "(0028, 0120) Pixel Padding Value                 SS: -2000\n",
       "(0028, 0303) Longitudinal Temporal Information M CS: 'MODIFIED'\n",
       "(0028, 1050) Window Center                       DS: '40.0'\n",
       "(0028, 1051) Window Width                        DS: '400.0'\n",
       "(0028, 1052) Rescale Intercept                   DS: '-1024.0'\n",
       "(0028, 1053) Rescale Slope                       DS: '1.0'\n",
       "(0043, 0010) Private Creator                     LO: 'GEMS_PARM_01'\n",
       "(0043, 1010) [Window value]                      US: 400\n",
       "(0043, 1012) [X-ray chain]                       SS: [99, 99, 99]\n",
       "(0043, 1016) [Number of overranges]              SS: 0\n",
       "(0043, 101e) [Delta Start Time [msec]]           DS: '0.0'\n",
       "(0043, 101f) [Max overranges in a view]          SL: 0\n",
       "(0043, 1021) [Corrected after glow terms]        SS: 0\n",
       "(0043, 1025) [Reference channels]                SS: [0, 0, 0, 0, 0, 0]\n",
       "(0043, 1026) [No views ref chans blocked]        US: [0, 0, 0, 0, 0, 0, 0, 0]\n",
       "(0043, 1027) [Scan Pitch Ratio]                  SH: '1.375:1'\n",
       "(0043, 102b) [Private Scan Options]              SS: [2, 0, 0, 0]\n",
       "(0043, 1031) [Recon Center Coordinates]          DS: [0.000000, 0.000000]\n",
       "(0043, 1040) [Trigger on position]               FL: 101.06407928466797\n",
       "(0043, 1041) [Degree of rotation]                FL: 4322.17529296875\n",
       "(0043, 1042) [DAS trigger source]                SL: 0\n",
       "(0043, 1043) [DAS fpa gain]                      SL: 0\n",
       "(0043, 1044) [DAS output source]                 SL: 0\n",
       "(0043, 1045) [DAS ad input]                      SL: 0\n",
       "(0043, 1046) [DAS cal mode]                      SL: 0\n",
       "(0043, 104d) [Start scan to X-ray on delay]      FL: 0.0\n",
       "(0043, 104e) [Duration of X-ray on]              FL: 9.604833602905273\n",
       "(0045, 0010) Private Creator                     LO: 'GEMS_HELIOS_01'\n",
       "(0045, 1001) [Number of Macro Rows in Detector]  SS: 16\n",
       "(0045, 1002) [Macro width at ISO Center]         FL: 1.2611686178923354e-44\n",
       "(0045, 1003) [DAS type]                          SS: 9\n",
       "(0045, 1004) [DAS gain]                          SS: 3\n",
       "(0045, 1006) [Table Direction]                   CS: 'INTO GANTRY'\n",
       "(0045, 1007) [Z smoothing Factor]                FL: 0.0\n",
       "(0045, 1008) [View Weighting Mode]               SS: 0\n",
       "(0045, 1009) [Sigma Row number]                  SS: 0\n",
       "(0045, 100a) [Minimum DAS value]                 FL: 0.0\n",
       "(0045, 100b) [Maximum Offset Value]              FL: 0.0\n",
       "(0045, 100c) [Number of Views shifted]           SS: 0\n",
       "(0045, 100d) [Z tracking Flag]                   SS: 0\n",
       "(0045, 100e) [Mean Z error]                      FL: 0.0\n",
       "(0045, 100f) [Z tracking Error]                  FL: 0.0\n",
       "(0045, 1010) [Start View 2A]                     SS: 0\n",
       "(0045, 1011) [Number of Views 2A]                SS: 0\n",
       "(0045, 1012) [Start View 1A]                     SS: 0\n",
       "(0045, 1013) [Sigma Mode]                        SS: 0\n",
       "(0045, 1014) [Number of Views 1A]                SS: 0\n",
       "(0045, 1015) [Start View 2B]                     SS: 0\n",
       "(0045, 1016) [Number Views 2B]                   SS: 0\n",
       "(0045, 1017) [Start View 1B]                     SS: 0\n",
       "(0045, 1018) [Number of Views 1B]                SS: 0\n",
       "(0045, 1021) [Iterbone Flag]                     SS: 0\n",
       "(0045, 1022) [Perisstaltic Flag]                 SS: 0\n",
       "(0045, 1032) [TemporalResolution]                FL: 1.186991810798645\n",
       "(7fe0, 0010) Pixel Data                          OW: Array of 524288 elements"
      ]
     },
     "execution_count": 41,
     "metadata": {},
     "output_type": "execute_result"
    }
   ],
   "source": [
    "ds"
   ]
  },
  {
   "cell_type": "code",
   "execution_count": 42,
   "id": "6d4a3be1",
   "metadata": {},
   "outputs": [
    {
     "data": {
      "text/plain": [
       "'ACRIN-FLT-Breast_001'"
      ]
     },
     "execution_count": 42,
     "metadata": {},
     "output_type": "execute_result"
    }
   ],
   "source": [
    "#get patient's name\n",
    "ds.PatientName"
   ]
  },
  {
   "cell_type": "code",
   "execution_count": 50,
   "id": "c765413c",
   "metadata": {},
   "outputs": [
    {
     "data": {
      "text/plain": [
       "('PN', 'ACRIN-FLT-Breast_001', (0010, 0010))"
      ]
     },
     "execution_count": 50,
     "metadata": {},
     "output_type": "execute_result"
    }
   ],
   "source": [
    "#patient's data element can be assessed by\n",
    "name = ds['PatientName']\n",
    "name.VR, name.value, name.tag"
   ]
  },
  {
   "cell_type": "code",
   "execution_count": 43,
   "id": "76d1d3ab",
   "metadata": {},
   "outputs": [
    {
     "data": {
      "text/plain": [
       "array([[-2000, -2000, -2000, ..., -2000, -2000, -2000],\n",
       "       [-2000, -2000, -2000, ..., -2000, -2000, -2000],\n",
       "       [-2000, -2000, -2000, ..., -2000, -2000, -2000],\n",
       "       ...,\n",
       "       [-2000, -2000, -2000, ..., -2000, -2000, -2000],\n",
       "       [-2000, -2000, -2000, ..., -2000, -2000, -2000],\n",
       "       [-2000, -2000, -2000, ..., -2000, -2000, -2000]], dtype=int16)"
      ]
     },
     "execution_count": 43,
     "metadata": {},
     "output_type": "execute_result"
    }
   ],
   "source": [
    "#convert bytes to array\n",
    "ds.pixel_array"
   ]
  },
  {
   "cell_type": "code",
   "execution_count": 44,
   "id": "0528713c",
   "metadata": {},
   "outputs": [],
   "source": [
    "image  = ds.pixel_array"
   ]
  },
  {
   "cell_type": "code",
   "execution_count": 45,
   "id": "f96c9069",
   "metadata": {},
   "outputs": [
    {
     "data": {
      "text/plain": [
       "(-2000, 2306)"
      ]
     },
     "execution_count": 45,
     "metadata": {},
     "output_type": "execute_result"
    }
   ],
   "source": [
    "image.min(), image.max()"
   ]
  },
  {
   "cell_type": "code",
   "execution_count": 48,
   "id": "3649f987",
   "metadata": {},
   "outputs": [
    {
     "data": {
      "text/plain": [
       "<matplotlib.image.AxesImage at 0x1af7cc84e90>"
      ]
     },
     "execution_count": 48,
     "metadata": {},
     "output_type": "execute_result"
    },
    {
     "data": {
      "image/png": "[encoded data removed]",
      "text/plain": [
       "<Figure size 640x480 with 1 Axes>"
      ]
     },
     "metadata": {},
     "output_type": "display_data"
    }
   ],
   "source": [
    "#lets dispay the image\n",
    "plt.imshow(ds.pixel_array, cmap=plt.cm.gray)"
   ]
  },
  {
   "cell_type": "code",
   "execution_count": null,
   "id": "4fe8929b",
   "metadata": {},
   "outputs": [],
   "source": []
  }
 ],
 "metadata": {
  "kernelspec": {
   "display_name": "Python 3 (ipykernel)",
   "language": "python",
   "name": "python3"
  },
  "language_info": {
   "codemirror_mode": {
    "name": "ipython",
    "version": 3
   },
   "file_extension": ".py",
   "mimetype": "text/x-python",
   "name": "python",
   "nbconvert_exporter": "python",
   "pygments_lexer": "ipython3",
   "version": "3.11.5"
  }
 },
 "nbformat": 4,
 "nbformat_minor": 5
}
